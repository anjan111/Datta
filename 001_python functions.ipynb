{
 "cells": [
  {
   "cell_type": "code",
   "execution_count": 1,
   "metadata": {},
   "outputs": [
    {
     "name": "stdout",
     "output_type": "stream",
     "text": [
      "123\n",
      "<type 'int'>\n",
      "39161024\n"
     ]
    }
   ],
   "source": [
    "# int \n",
    "var =  123\n",
    "print var  # printing the data on screen\n",
    "print type(var)\n",
    "print id(var)"
   ]
  },
  {
   "cell_type": "code",
   "execution_count": 2,
   "metadata": {},
   "outputs": [
    {
     "name": "stdout",
     "output_type": "stream",
     "text": [
      "12.000453\n",
      "<type 'float'>\n",
      "73751536\n"
     ]
    }
   ],
   "source": [
    "# float\n",
    "var =  12.000453\n",
    "print var  # printing the data on screen\n",
    "print type(var)\n",
    "print id(var)"
   ]
  },
  {
   "cell_type": "code",
   "execution_count": 3,
   "metadata": {},
   "outputs": [
    {
     "name": "stdout",
     "output_type": "stream",
     "text": [
      "(1+23j)\n",
      "<type 'complex'>\n",
      "68630768\n"
     ]
    }
   ],
   "source": [
    "# complex \n",
    "var =  1 + 23j\n",
    "print var  # printing the data on screen\n",
    "print type(var)\n",
    "print id(var)"
   ]
  },
  {
   "cell_type": "code",
   "execution_count": 4,
   "metadata": {},
   "outputs": [
    {
     "name": "stdout",
     "output_type": "stream",
     "text": [
      "True\n",
      "<type 'bool'>\n",
      "1402781416\n",
      "False\n",
      "<type 'bool'>\n",
      "1402781000\n"
     ]
    }
   ],
   "source": [
    "# bool \n",
    "var =  True\n",
    "print var  # printing the data on screen\n",
    "print type(var)\n",
    "print id(var)\n",
    "# bool \n",
    "var =  False\n",
    "print var  # printing the data on screen\n",
    "print type(var)\n",
    "print id(var)\n"
   ]
  },
  {
   "cell_type": "code",
   "execution_count": 5,
   "metadata": {},
   "outputs": [
    {
     "name": "stdout",
     "output_type": "stream",
     "text": [
      "None\n",
      "<type 'NoneType'>\n",
      "1402735736\n"
     ]
    }
   ],
   "source": [
    "# None\n",
    "var =  None\n",
    "print var  # printing the data on screen\n",
    "print type(var)\n",
    "print id(var)\n"
   ]
  },
  {
   "cell_type": "code",
   "execution_count": 6,
   "metadata": {},
   "outputs": [
    {
     "name": "stdout",
     "output_type": "stream",
     "text": [
      "soc softech\n",
      "<type 'str'>\n",
      "74234016\n"
     ]
    }
   ],
   "source": [
    "# str\n",
    "var =  \"soc softech\"\n",
    "print var  # printing the data on screen\n",
    "print type(var)\n",
    "print id(var)\n"
   ]
  },
  {
   "cell_type": "code",
   "execution_count": 7,
   "metadata": {},
   "outputs": [
    {
     "name": "stdout",
     "output_type": "stream",
     "text": [
      "[12, 77, 3.23]\n",
      "<type 'list'>\n",
      "74301960\n"
     ]
    }
   ],
   "source": [
    "# list \n",
    "var =  [12,77,3.23]\n",
    "print var  # printing the data on screen\n",
    "print type(var)\n",
    "print id(var)\n"
   ]
  },
  {
   "cell_type": "code",
   "execution_count": 8,
   "metadata": {},
   "outputs": [
    {
     "name": "stdout",
     "output_type": "stream",
     "text": [
      "(12, 90, 34, 6.3)\n",
      "<type 'tuple'>\n",
      "74953176\n"
     ]
    }
   ],
   "source": [
    "# tuple\n",
    "var =  (12,90,34,6.3)\n",
    "print var  # printing the data on screen\n",
    "print type(var)\n",
    "print id(var)\n"
   ]
  },
  {
   "cell_type": "code",
   "execution_count": 9,
   "metadata": {},
   "outputs": [
    {
     "name": "stdout",
     "output_type": "stream",
     "text": [
      "set([(3+5j), 3.35, 12])\n",
      "<type 'set'>\n",
      "64601224\n"
     ]
    }
   ],
   "source": [
    "# set \n",
    "var =  {12,3.35,3+5j}\n",
    "print var  # printing the data on screen\n",
    "print type(var)\n",
    "print id(var)\n"
   ]
  },
  {
   "cell_type": "code",
   "execution_count": 10,
   "metadata": {},
   "outputs": [
    {
     "name": "stdout",
     "output_type": "stream",
     "text": [
      "{78.24: 45, 12: 34}\n",
      "<type 'dict'>\n",
      "74965336\n"
     ]
    }
   ],
   "source": [
    "# dict \n",
    "var =  {12:34 , 78.24 : 45}\n",
    "print var  # printing the data on screen\n",
    "print type(var)\n",
    "print id(var)\n"
   ]
  },
  {
   "cell_type": "code",
   "execution_count": 11,
   "metadata": {},
   "outputs": [
    {
     "name": "stdout",
     "output_type": "stream",
     "text": [
      "enter int : 7845\n",
      "7845\n",
      "<type 'int'>\n",
      "65072976\n"
     ]
    }
   ],
   "source": [
    "# input() --->> to read the data from keywords\n",
    "# i want to read int & display\n",
    "var = input(\"enter int : \")\n",
    "print var\n",
    "print type(var)\n",
    "print id(var)"
   ]
  },
  {
   "cell_type": "code",
   "execution_count": 12,
   "metadata": {},
   "outputs": [
    {
     "name": "stdout",
     "output_type": "stream",
     "text": [
      "enter float : 78.656\n",
      "78.656\n",
      "<type 'float'>\n",
      "73749232\n"
     ]
    }
   ],
   "source": [
    "# input() --->> to read the data from keywords\n",
    "# i want to read float & display\n",
    "var = input(\"enter float : \")\n",
    "print var\n",
    "print type(var)\n",
    "print id(var)"
   ]
  },
  {
   "cell_type": "code",
   "execution_count": null,
   "metadata": {},
   "outputs": [],
   "source": [
    "# read complex data\n",
    "# read bool\n",
    "# read Nonetype\n",
    "# read str, list, tuple, set, dict"
   ]
  }
 ],
 "metadata": {
  "kernelspec": {
   "display_name": "Python 2",
   "language": "python",
   "name": "python2"
  },
  "language_info": {
   "codemirror_mode": {
    "name": "ipython",
    "version": 2
   },
   "file_extension": ".py",
   "mimetype": "text/x-python",
   "name": "python",
   "nbconvert_exporter": "python",
   "pygments_lexer": "ipython2",
   "version": "2.7.16"
  }
 },
 "nbformat": 4,
 "nbformat_minor": 2
}
